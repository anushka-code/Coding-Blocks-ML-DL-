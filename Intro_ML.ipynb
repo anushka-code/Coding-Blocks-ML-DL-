{
  "nbformat": 4,
  "nbformat_minor": 0,
  "metadata": {
    "colab": {
      "name": "Intro_ML.ipynb",
      "provenance": [],
      "authorship_tag": "ABX9TyOOfbBXaDuN9Hk6FnH14F5g",
      "include_colab_link": true
    },
    "kernelspec": {
      "name": "python3",
      "display_name": "Python 3"
    },
    "language_info": {
      "name": "python"
    }
  },
  "cells": [
    {
      "cell_type": "markdown",
      "metadata": {
        "id": "view-in-github",
        "colab_type": "text"
      },
      "source": [
        "<a href=\"https://colab.research.google.com/github/anushka-code/Coding-Blocks-ML-DL-/blob/main/Intro_ML.ipynb\" target=\"_parent\"><img src=\"https://colab.research.google.com/assets/colab-badge.svg\" alt=\"Open In Colab\"/></a>"
      ]
    },
    {
      "cell_type": "markdown",
      "source": [
        "***Numpy***"
      ],
      "metadata": {
        "id": "rCnOXB4kw2PP"
      }
    },
    {
      "cell_type": "code",
      "source": [
        "import numpy as np"
      ],
      "metadata": {
        "id": "oANrtfWjw13s"
      },
      "execution_count": null,
      "outputs": []
    },
    {
      "cell_type": "code",
      "source": [
        "# few important functions"
      ],
      "metadata": {
        "id": "BeE-k2Luw6ok"
      },
      "execution_count": null,
      "outputs": []
    },
    {
      "cell_type": "code",
      "source": [
        "a = np.array([[1,2],[3,4],[5,6]])\n",
        "print(a)"
      ],
      "metadata": {
        "colab": {
          "base_uri": "https://localhost:8080/"
        },
        "id": "ArwIs2bsw83b",
        "outputId": "ad480015-cdf2-483e-eba6-0006749fb876"
      },
      "execution_count": null,
      "outputs": [
        {
          "output_type": "stream",
          "name": "stdout",
          "text": [
            "[[1 2]\n",
            " [3 4]\n",
            " [5 6]]\n"
          ]
        }
      ]
    },
    {
      "cell_type": "code",
      "source": [
        "print(a.shape)\n",
        "type(a)"
      ],
      "metadata": {
        "colab": {
          "base_uri": "https://localhost:8080/"
        },
        "id": "CeSwMTjW14Ri",
        "outputId": "77a2779e-7be8-4f11-9ff4-cf67e47cf09d"
      },
      "execution_count": null,
      "outputs": [
        {
          "output_type": "stream",
          "name": "stdout",
          "text": [
            "(3, 2)\n"
          ]
        },
        {
          "output_type": "execute_result",
          "data": {
            "text/plain": [
              "numpy.ndarray"
            ]
          },
          "metadata": {},
          "execution_count": 18
        }
      ]
    },
    {
      "cell_type": "code",
      "source": [
        "a.T"
      ],
      "metadata": {
        "colab": {
          "base_uri": "https://localhost:8080/"
        },
        "id": "WsmKKeOt11L5",
        "outputId": "b4606519-b3a8-45a6-b8cb-72d05d073006"
      },
      "execution_count": null,
      "outputs": [
        {
          "output_type": "execute_result",
          "data": {
            "text/plain": [
              "array([[1, 3, 5],\n",
              "       [2, 4, 6]])"
            ]
          },
          "metadata": {},
          "execution_count": 19
        }
      ]
    },
    {
      "cell_type": "code",
      "source": [
        "np.dot(a,a.T)"
      ],
      "metadata": {
        "colab": {
          "base_uri": "https://localhost:8080/"
        },
        "id": "G79QIwty2IJ-",
        "outputId": "55c74a6e-ee98-479a-bce1-6944d5b469d5"
      },
      "execution_count": null,
      "outputs": [
        {
          "output_type": "execute_result",
          "data": {
            "text/plain": [
              "array([[ 5, 11, 17],\n",
              "       [11, 25, 39],\n",
              "       [17, 39, 61]])"
            ]
          },
          "metadata": {},
          "execution_count": 20
        }
      ]
    },
    {
      "cell_type": "code",
      "source": [
        "b = np.array([[7,8,9,10],[11,12,13,14]])"
      ],
      "metadata": {
        "id": "4xdAecTx2Mbv"
      },
      "execution_count": null,
      "outputs": []
    },
    {
      "cell_type": "code",
      "source": [
        "np.dot(a,b)"
      ],
      "metadata": {
        "colab": {
          "base_uri": "https://localhost:8080/"
        },
        "id": "fNQxVOcG2VHG",
        "outputId": "2a53ffdb-2cab-4677-88af-fc8cc0a4b781"
      },
      "execution_count": null,
      "outputs": [
        {
          "output_type": "execute_result",
          "data": {
            "text/plain": [
              "array([[ 29,  32,  35,  38],\n",
              "       [ 65,  72,  79,  86],\n",
              "       [101, 112, 123, 134]])"
            ]
          },
          "metadata": {},
          "execution_count": 22
        }
      ]
    },
    {
      "cell_type": "code",
      "source": [
        "np.random.randint(10,100,5)"
      ],
      "metadata": {
        "colab": {
          "base_uri": "https://localhost:8080/"
        },
        "id": "Unpnwlne2Yb2",
        "outputId": "4f30d455-8024-4975-ef39-c0ef6a635dbb"
      },
      "execution_count": null,
      "outputs": [
        {
          "output_type": "execute_result",
          "data": {
            "text/plain": [
              "array([79, 50, 67, 64, 34])"
            ]
          },
          "metadata": {},
          "execution_count": 25
        }
      ]
    },
    {
      "cell_type": "code",
      "source": [
        "np.random.randint(50,100,(3,3))"
      ],
      "metadata": {
        "id": "GhPQH-z--u0X",
        "outputId": "a0c2f578-de77-4bdf-8e0c-ab8918e3e8db",
        "colab": {
          "base_uri": "https://localhost:8080/"
        }
      },
      "execution_count": null,
      "outputs": [
        {
          "output_type": "execute_result",
          "data": {
            "text/plain": [
              "array([[77, 85, 82],\n",
              "       [80, 79, 84],\n",
              "       [81, 76, 67]])"
            ]
          },
          "metadata": {},
          "execution_count": 26
        }
      ]
    },
    {
      "cell_type": "markdown",
      "source": [
        "**Numpy Random Module**"
      ],
      "metadata": {
        "id": "umoWCqMtwZ73"
      }
    },
    {
      "cell_type": "markdown",
      "source": [
        "*   rand - generates random numbers of the given shape\n",
        "*   randn\n",
        "*   randint\n",
        "*   random\n",
        "*   choice\n",
        "*   shuffle - shuffles numbers in a given numpy array\n",
        "\n",
        "\n",
        "\n",
        "\n"
      ],
      "metadata": {
        "id": "ibQnIby2zcd8"
      }
    },
    {
      "cell_type": "code",
      "source": [
        "a = np.arange(11) + 7 # arranges the number upto given limit"
      ],
      "metadata": {
        "id": "ZRD7NmwAwehU",
        "colab": {
          "base_uri": "https://localhost:8080/"
        },
        "outputId": "01b1a6fc-e54e-432d-c7c5-181ea71ad270"
      },
      "execution_count": null,
      "outputs": [
        {
          "output_type": "stream",
          "name": "stdout",
          "text": [
            "[ 7  8  9 10 11 12 13 14 15 16 17]\n"
          ]
        }
      ]
    },
    {
      "cell_type": "code",
      "source": [
        "np.random.shuffle(a)\n",
        "print(a)"
      ],
      "metadata": {
        "colab": {
          "base_uri": "https://localhost:8080/"
        },
        "id": "-oCQr_210W7c",
        "outputId": "72fd37b8-db3d-46c3-91bd-96cf18f338f8"
      },
      "execution_count": null,
      "outputs": [
        {
          "output_type": "stream",
          "name": "stdout",
          "text": [
            "[ 9 16  8 11 14 12  7 17 15 13 10]\n"
          ]
        }
      ]
    },
    {
      "cell_type": "code",
      "source": [
        "a = np.random.rand(3,3)\n",
        "print(a)"
      ],
      "metadata": {
        "colab": {
          "base_uri": "https://localhost:8080/"
        },
        "id": "37N3a7KM1Us8",
        "outputId": "12ae40ad-9fc5-480d-b0d1-e755830a498f"
      },
      "execution_count": null,
      "outputs": [
        {
          "output_type": "stream",
          "name": "stdout",
          "text": [
            "[[0.89551411 0.53093121 0.95701043]\n",
            " [0.06395545 0.2789504  0.61858696]\n",
            " [0.62050099 0.16912761 0.70727252]]\n"
          ]
        }
      ]
    },
    {
      "cell_type": "code",
      "source": [
        "a = np.random.randn(2,2)\n",
        "print(a)"
      ],
      "metadata": {
        "colab": {
          "base_uri": "https://localhost:8080/"
        },
        "id": "HJpzu8ab1ewt",
        "outputId": "99838a9b-766d-4aab-f2f7-697e1023f3f2"
      },
      "execution_count": null,
      "outputs": [
        {
          "output_type": "stream",
          "name": "stdout",
          "text": [
            "[[-1.54854995 -0.34785623]\n",
            " [-1.77327539 -0.35848338]]\n"
          ]
        }
      ]
    },
    {
      "cell_type": "code",
      "source": [
        "a = np.random.seed(3) # this is to keep the random values same everytime \n",
        "a = np.random.randint(5,12,3)\n",
        "print(a) \n",
        "#inclusive, exclusive and number of numbers you want in the range"
      ],
      "metadata": {
        "colab": {
          "base_uri": "https://localhost:8080/"
        },
        "id": "K5biEV7ZJ8FX",
        "outputId": "da7311dc-d384-4f63-8102-f1529e8ba05b"
      },
      "execution_count": null,
      "outputs": [
        {
          "output_type": "stream",
          "name": "stdout",
          "text": [
            "[7 5 6]\n"
          ]
        }
      ]
    },
    {
      "cell_type": "code",
      "source": [
        "element = np.random.choice(a)\n",
        "print(element)"
      ],
      "metadata": {
        "colab": {
          "base_uri": "https://localhost:8080/"
        },
        "id": "mbaOvANxKEYw",
        "outputId": "cf18bbd0-ed80-43a4-b279-3b90d57672ee"
      },
      "execution_count": null,
      "outputs": [
        {
          "output_type": "stream",
          "name": "stdout",
          "text": [
            "9\n"
          ]
        }
      ]
    },
    {
      "cell_type": "markdown",
      "source": [
        "**Some more Numpy Functions - Statistics**\n",
        "\n",
        "*   min,max\n",
        "*   mean\n",
        "*   median\n",
        "*   average\n",
        "*   variance\n",
        "*   standard deviation"
      ],
      "metadata": {
        "id": "JIiy11g7LBhU"
      }
    },
    {
      "cell_type": "code",
      "source": [
        "a = np.array([[1,2,3,4],[7,8,9,0]])\n",
        "print(a) "
      ],
      "metadata": {
        "colab": {
          "base_uri": "https://localhost:8080/"
        },
        "id": "8IKP2TaWLFmC",
        "outputId": "315ff22b-6fc5-407a-86fb-5f881f82bc8c"
      },
      "execution_count": null,
      "outputs": [
        {
          "output_type": "stream",
          "name": "stdout",
          "text": [
            "[[1 2 3 4]\n",
            " [7 8 9 0]]\n"
          ]
        }
      ]
    },
    {
      "cell_type": "code",
      "source": [
        "print(np.min(a))"
      ],
      "metadata": {
        "colab": {
          "base_uri": "https://localhost:8080/"
        },
        "id": "WBtjJiY2NrVC",
        "outputId": "46b66426-9936-4072-f595-b3912aba1c90"
      },
      "execution_count": null,
      "outputs": [
        {
          "output_type": "stream",
          "name": "stdout",
          "text": [
            "0\n"
          ]
        }
      ]
    },
    {
      "cell_type": "code",
      "source": [
        "print(np.min(a, axis=0)) # along the columns\n",
        "print(np.min(a, axis=1)) # along the rows"
      ],
      "metadata": {
        "colab": {
          "base_uri": "https://localhost:8080/"
        },
        "id": "3iM58h1hNyWh",
        "outputId": "8786b128-3619-4105-c79d-8ab3d899549e"
      },
      "execution_count": null,
      "outputs": [
        {
          "output_type": "stream",
          "name": "stdout",
          "text": [
            "[1 2 3 0]\n",
            "[1 0]\n"
          ]
        }
      ]
    },
    {
      "cell_type": "code",
      "source": [
        "np.mean(a, axis=0)"
      ],
      "metadata": {
        "colab": {
          "base_uri": "https://localhost:8080/"
        },
        "id": "qNHjRipfN_f3",
        "outputId": "9c29ed6a-2d57-4b2f-88b6-b70249b0bb66"
      },
      "execution_count": null,
      "outputs": [
        {
          "output_type": "execute_result",
          "data": {
            "text/plain": [
              "array([4., 5., 6., 2.])"
            ]
          },
          "metadata": {},
          "execution_count": 34
        }
      ]
    },
    {
      "cell_type": "code",
      "source": [
        "np.mean(a, axis=1)"
      ],
      "metadata": {
        "colab": {
          "base_uri": "https://localhost:8080/"
        },
        "id": "GEiyxanxOXk6",
        "outputId": "5443809e-e7c7-46d1-c182-3cfceffc5c1f"
      },
      "execution_count": null,
      "outputs": [
        {
          "output_type": "execute_result",
          "data": {
            "text/plain": [
              "array([2.5, 6. ])"
            ]
          },
          "metadata": {},
          "execution_count": 33
        }
      ]
    },
    {
      "cell_type": "code",
      "source": [
        "c = np.array([1,6,7,2,3,1,4,5,7,9,9,8,4])\n",
        "print(np.median(c))"
      ],
      "metadata": {
        "colab": {
          "base_uri": "https://localhost:8080/"
        },
        "id": "AiVZ_CIrOc6x",
        "outputId": "260cdb4d-3791-4df3-c2f4-d9a9e37ebb22"
      },
      "execution_count": null,
      "outputs": [
        {
          "output_type": "stream",
          "name": "stdout",
          "text": [
            "5.0\n"
          ]
        }
      ]
    },
    {
      "cell_type": "code",
      "source": [
        "c = np.array([9,8,7,6,5])\n",
        "w = np.array([1,2,3,4,5])\n",
        "print(np.average(c,weights=w)) # weights gives weighted average\n",
        "\n",
        "print(np.std(c)) #standard deviation \n",
        "print(np.var(c)) #variance\n"
      ],
      "metadata": {
        "colab": {
          "base_uri": "https://localhost:8080/"
        },
        "id": "CtxA4oR3SigG",
        "outputId": "382c18b5-30d3-44ff-c59e-e189102361fd"
      },
      "execution_count": null,
      "outputs": [
        {
          "output_type": "stream",
          "name": "stdout",
          "text": [
            "6.333333333333333\n",
            "1.4142135623730951\n",
            "2.0\n"
          ]
        }
      ]
    },
    {
      "cell_type": "markdown",
      "source": [
        "**Linear Algebra**"
      ],
      "metadata": {
        "id": "upB6_V0RhEbp"
      }
    },
    {
      "cell_type": "markdown",
      "source": [
        "***Tensors*** "
      ],
      "metadata": {
        "id": "ZQ7HxjGfheqo"
      }
    },
    {
      "cell_type": "code",
      "source": [
        "T = np.zeros((5,5,3), dtype = 'uint8') #this tensor has 5 matrices of 3X3 size\n",
        "# T[x,y,z] represents x as the number of rows, y as number of columns and z as number of channels (RGB)\n",
        "\n",
        "T[ 1 : 2, : , 0] = 255\n",
        "T[ 2 : 3, : , 1] = 255\n",
        "T[ 3 : 4, : , 2] = 255\n",
        "T[ 4 : , : , : ] = 255\n",
        "\n",
        "print(T)"
      ],
      "metadata": {
        "colab": {
          "base_uri": "https://localhost:8080/"
        },
        "id": "vRCQoEvJhHNj",
        "outputId": "fdf84223-8a61-4983-dd7c-3ce4f3acea09"
      },
      "execution_count": null,
      "outputs": [
        {
          "output_type": "stream",
          "name": "stdout",
          "text": [
            "[[[  0   0   0]\n",
            "  [  0   0   0]\n",
            "  [  0   0   0]\n",
            "  [  0   0   0]\n",
            "  [  0   0   0]]\n",
            "\n",
            " [[255   0   0]\n",
            "  [255   0   0]\n",
            "  [255   0   0]\n",
            "  [255   0   0]\n",
            "  [255   0   0]]\n",
            "\n",
            " [[  0 255   0]\n",
            "  [  0 255   0]\n",
            "  [  0 255   0]\n",
            "  [  0 255   0]\n",
            "  [  0 255   0]]\n",
            "\n",
            " [[  0   0 255]\n",
            "  [  0   0 255]\n",
            "  [  0   0 255]\n",
            "  [  0   0 255]\n",
            "  [  0   0 255]]\n",
            "\n",
            " [[255 255 255]\n",
            "  [255 255 255]\n",
            "  [255 255 255]\n",
            "  [255 255 255]\n",
            "  [255 255 255]]]\n"
          ]
        }
      ]
    },
    {
      "cell_type": "code",
      "source": [
        "import matplotlib.pyplot as plt\n",
        "\n",
        "plt.imshow(T)\n",
        "plt.show() "
      ],
      "metadata": {
        "colab": {
          "base_uri": "https://localhost:8080/",
          "height": 265
        },
        "id": "pZJAqqkujm6X",
        "outputId": "7bba9352-0716-4307-df1f-70f1f006edad"
      },
      "execution_count": null,
      "outputs": [
        {
          "output_type": "display_data",
          "data": {
            "image/png": "[encoded data removed]",
            "text/plain": [
              "<Figure size 432x288 with 1 Axes>"
            ]
          },
          "metadata": {
            "needs_background": "light"
          }
        }
      ]
    },
    {
      "cell_type": "code",
      "source": [
        "X = np.array([[1,2,3], [4,5,6], [7,8,9]])\n",
        "print(X.T) #transpose of a matrix"
      ],
      "metadata": {
        "id": "dOzI-pDNl6-P",
        "colab": {
          "base_uri": "https://localhost:8080/"
        },
        "outputId": "a91602c8-a73e-4ed3-8906-adfc31734d73"
      },
      "execution_count": null,
      "outputs": [
        {
          "output_type": "stream",
          "name": "stdout",
          "text": [
            "[[1 4 7]\n",
            " [2 5 8]\n",
            " [3 6 9]]\n"
          ]
        }
      ]
    },
    {
      "cell_type": "code",
      "source": [
        "#transpose of a tensor\n",
        "\n",
        "T1 = np.transpose(T)\n",
        "print(T1)\n",
        "print(T1.shape)\n",
        "\n",
        "#Here (5,5,3) is last channel representation and (3,5,5) is first channel representation"
      ],
      "metadata": {
        "colab": {
          "base_uri": "https://localhost:8080/"
        },
        "id": "y2KHOfCzQnjw",
        "outputId": "536b60b5-308d-4485-a743-955eea5ad524"
      },
      "execution_count": null,
      "outputs": [
        {
          "output_type": "stream",
          "name": "stdout",
          "text": [
            "[[[  0 255   0   0 255]\n",
            "  [  0 255   0   0 255]\n",
            "  [  0 255   0   0 255]\n",
            "  [  0 255   0   0 255]\n",
            "  [  0 255   0   0 255]]\n",
            "\n",
            " [[  0   0 255   0 255]\n",
            "  [  0   0 255   0 255]\n",
            "  [  0   0 255   0 255]\n",
            "  [  0   0 255   0 255]\n",
            "  [  0   0 255   0 255]]\n",
            "\n",
            " [[  0   0   0 255 255]\n",
            "  [  0   0   0 255 255]\n",
            "  [  0   0   0 255 255]\n",
            "  [  0   0   0 255 255]\n",
            "  [  0   0   0 255 255]]]\n",
            "(3, 5, 5)\n"
          ]
        }
      ]
    },
    {
      "cell_type": "markdown",
      "source": [
        "**Hamdard Product (Element-Wise Multiplication) & Matrix Multiplication**"
      ],
      "metadata": {
        "id": "MgsiL53ETx-Q"
      }
    },
    {
      "cell_type": "code",
      "source": [
        "#for element-wise multiplication the matrices have to be of the same size\n",
        "\n",
        "A = np.array([[1,2],[3,4]])\n",
        "\n",
        "B = np.array([[0,2],[1,9]])\n",
        "\n",
        "C = A*B\n",
        "\n",
        "print(A)\n",
        "print(B)\n",
        "print(C)"
      ],
      "metadata": {
        "colab": {
          "base_uri": "https://localhost:8080/"
        },
        "id": "Jpusqux8Q7pF",
        "outputId": "84e0616a-1a1a-467d-e00b-75fb8723f352"
      },
      "execution_count": null,
      "outputs": [
        {
          "output_type": "stream",
          "name": "stdout",
          "text": [
            "[[1 2]\n",
            " [3 4]]\n",
            "[[0 2]\n",
            " [1 9]]\n",
            "[[ 0  4]\n",
            " [ 3 36]]\n"
          ]
        }
      ]
    },
    {
      "cell_type": "code",
      "source": [
        "#for matrix multiplication number of columns of first matrix = number of rows of second matrix\n",
        "#suppose A has the size m,n and B has the size n,p then size of the output is m,p\n",
        "\n",
        "A = np.array ([[1,2,3,2],[0,7,-1,-5],[-4,8,6,0]]) # 3 X 4\n",
        "B = np.array ([[1,2],[-1,1],[0,0],[-9,9]]) # 4 X 2\n",
        "\n",
        "C = np.dot(A,B)\n",
        "\n",
        "print(C)"
      ],
      "metadata": {
        "colab": {
          "base_uri": "https://localhost:8080/"
        },
        "id": "tr_hV8gcUaJ0",
        "outputId": "74e6f6c6-8ffd-458d-f578-46a36729745a"
      },
      "execution_count": null,
      "outputs": [
        {
          "output_type": "stream",
          "name": "stdout",
          "text": [
            "[[-19  22]\n",
            " [ 38 -38]\n",
            " [-12   0]]\n"
          ]
        }
      ]
    },
    {
      "cell_type": "markdown",
      "source": [
        "**numpy.linalg**"
      ],
      "metadata": {
        "id": "4aM82EQjZtZU"
      }
    },
    {
      "cell_type": "markdown",
      "source": [
        "***Norm***"
      ],
      "metadata": {
        "id": "XrcgsyHBre8i"
      }
    },
    {
      "cell_type": "code",
      "source": [
        "x = np.array([5,12,3,1])\n",
        "print(x)\n",
        "lp2 = np.linalg.norm(x)\n",
        "print(lp2)\n",
        "\n",
        "y = np.array([3,-4])\n",
        "print(y)\n",
        "lp3 = np.linalg.norm(y, ord=3)\n",
        "print(lp3)\n",
        "\n",
        "#infinity norm\n",
        "lpinf = np.linalg.norm(y, ord=np.inf)\n",
        "print(lpinf)"
      ],
      "metadata": {
        "id": "QEvfgU7KZw6Y",
        "colab": {
          "base_uri": "https://localhost:8080/"
        },
        "outputId": "b78a5adb-44a1-4994-af83-2892967cbba4"
      },
      "execution_count": null,
      "outputs": [
        {
          "output_type": "stream",
          "name": "stdout",
          "text": [
            "[ 5 12  3  1]\n",
            "13.379088160259652\n",
            "[ 3 -4]\n",
            "4.497941445275415\n",
            "4.0\n"
          ]
        }
      ]
    },
    {
      "cell_type": "markdown",
      "source": [
        "***Determinant and Inverse***\n",
        "\n",
        "```\n",
        "# This is formatted as code\n",
        "```\n",
        "\n"
      ],
      "metadata": {
        "id": "X4QftB-cvppC"
      }
    },
    {
      "cell_type": "code",
      "source": [
        "m = np.array ([[1,2],[-2,3]])\n",
        "detm = np.linalg.det(m)\n",
        "\n",
        "print(detm) #determinant"
      ],
      "metadata": {
        "colab": {
          "base_uri": "https://localhost:8080/"
        },
        "id": "DgD0si4hvs5h",
        "outputId": "28587cfa-809b-463b-e630-0c59d0a99e56"
      },
      "execution_count": null,
      "outputs": [
        {
          "output_type": "stream",
          "name": "stdout",
          "text": [
            "7.000000000000001\n"
          ]
        }
      ]
    },
    {
      "cell_type": "code",
      "source": [
        "n = np.array ([[1,2],[3,4]])\n",
        "ninv = np.linalg.inv(n)\n",
        "print(ninv)\n",
        "print(np.dot(n,ninv)) #identity matrix"
      ],
      "metadata": {
        "colab": {
          "base_uri": "https://localhost:8080/"
        },
        "id": "W9Wi4G3Lxy2h",
        "outputId": "ad55c926-9baf-4115-ab69-6a51f57f0ec7"
      },
      "execution_count": null,
      "outputs": [
        {
          "output_type": "stream",
          "name": "stdout",
          "text": [
            "[[-2.   1. ]\n",
            " [ 1.5 -0.5]]\n",
            "[[1.0000000e+00 0.0000000e+00]\n",
            " [8.8817842e-16 1.0000000e+00]]\n"
          ]
        }
      ]
    },
    {
      "cell_type": "markdown",
      "source": [
        "Not all matrices are invertible. Hence we find the pseudo inverse.\n"
      ],
      "metadata": {
        "id": "a-q-ymk9y25t"
      }
    },
    {
      "cell_type": "code",
      "source": [
        "s = np.array([[1,2,3],[4,5,6]])\n",
        "sinv = np.linalg.pinv(s) \n",
        "print(s)\n",
        "print(sinv)\n",
        "print(np.dot(s,sinv)) "
      ],
      "metadata": {
        "colab": {
          "base_uri": "https://localhost:8080/"
        },
        "id": "4P0aOMKXzWrx",
        "outputId": "8bf73ad8-606a-4743-ef44-df0c9163134a"
      },
      "execution_count": null,
      "outputs": [
        {
          "output_type": "stream",
          "name": "stdout",
          "text": [
            "[[1 2 3]\n",
            " [4 5 6]]\n",
            "[[-0.94444444  0.44444444]\n",
            " [-0.11111111  0.11111111]\n",
            " [ 0.72222222 -0.22222222]]\n",
            "[[ 1.00000000e+00  3.60822483e-16]\n",
            " [-1.11022302e-15  1.00000000e+00]]\n"
          ]
        }
      ]
    },
    {
      "cell_type": "markdown",
      "source": [
        "***Solving a System of Linear Equations***"
      ],
      "metadata": {
        "id": "0gKtZXpo0r9M"
      }
    },
    {
      "cell_type": "code",
      "source": [
        "X = np.array([[2,3],[3,1]]) # 2x + 3y = 8 & 3x + y = 5\n",
        "Y = np.array([8,5]) \n",
        "\n",
        "np.linalg.solve(X,Y)"
      ],
      "metadata": {
        "colab": {
          "base_uri": "https://localhost:8080/"
        },
        "id": "7UxxOjXR0rYQ",
        "outputId": "6125e8cb-f680-4fb9-dc07-ca22830affb2"
      },
      "execution_count": null,
      "outputs": [
        {
          "output_type": "execute_result",
          "data": {
            "text/plain": [
              "array([1., 2.])"
            ]
          },
          "metadata": {},
          "execution_count": 17
        }
      ]
    }
  ]
}