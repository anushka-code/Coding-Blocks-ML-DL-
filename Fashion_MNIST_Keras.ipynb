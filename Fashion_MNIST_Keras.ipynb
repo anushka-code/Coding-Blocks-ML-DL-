{
  "nbformat": 4,
  "nbformat_minor": 0,
  "metadata": {
    "colab": {
      "name": "Fashion_MNIST_Keras.ipynb",
      "provenance": [],
      "authorship_tag": "ABX9TyM/cSeZTAQF/IuSe6tCl2Xb",
      "include_colab_link": true
    },
    "kernelspec": {
      "name": "python3",
      "display_name": "Python 3"
    },
    "language_info": {
      "name": "python"
    }
  },
  "cells": [
    {
      "cell_type": "markdown",
      "metadata": {
        "id": "view-in-github",
        "colab_type": "text"
      },
      "source": [
        "<a href=\"https://colab.research.google.com/github/anushka-code/Coding-Blocks-ML-DL-/blob/main/Fashion_MNIST_Keras.ipynb\" target=\"_parent\"><img src=\"https://colab.research.google.com/assets/colab-badge.svg\" alt=\"Open In Colab\"/></a>"
      ]
    },
    {
      "cell_type": "code",
      "execution_count": null,
      "metadata": {
        "id": "hZNW2AGkK1Wa"
      },
      "outputs": [],
      "source": [
        ""
      ]
    }
  ]
}