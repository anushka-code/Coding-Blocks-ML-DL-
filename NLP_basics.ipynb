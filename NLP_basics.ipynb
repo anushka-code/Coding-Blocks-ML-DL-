{
  "nbformat": 4,
  "nbformat_minor": 0,
  "metadata": {
    "colab": {
      "name": "NLP_basics.ipynb",
      "provenance": [],
      "authorship_tag": "ABX9TyN/vvVoSBZLz+zrXprhV10U",
      "include_colab_link": true
    },
    "kernelspec": {
      "name": "python3",
      "display_name": "Python 3"
    },
    "language_info": {
      "name": "python"
    }
  },
  "cells": [
    {
      "cell_type": "markdown",
      "metadata": {
        "id": "view-in-github",
        "colab_type": "text"
      },
      "source": [
        "<a href=\"https://colab.research.google.com/github/anushka-code/Coding-Blocks-ML-DL-/blob/main/NLP_basics.ipynb\" target=\"_parent\"><img src=\"https://colab.research.google.com/assets/colab-badge.svg\" alt=\"Open In Colab\"/></a>"
      ]
    },
    {
      "cell_type": "markdown",
      "source": [
        "NLTK - Natural Language ToolKit\n",
        "\n",
        "*   Data - Either scrape it from the internet or use corpus from NLTK \n",
        "\n",
        "\n",
        "\n"
      ],
      "metadata": {
        "id": "aNn63gfKJ_Km"
      }
    },
    {
      "cell_type": "code",
      "source": [
        "import nltk"
      ],
      "metadata": {
        "id": "FWT6MBG_93SA"
      },
      "execution_count": 1,
      "outputs": []
    },
    {
      "cell_type": "code",
      "source": [
        "nltk.download()"
      ],
      "metadata": {
        "colab": {
          "base_uri": "https://localhost:8080/"
        },
        "id": "8QarW8vBIMqk",
        "outputId": "3a3371f3-b320-48e3-a596-2c9c85b3fc7c"
      },
      "execution_count": 6,
      "outputs": [
        {
          "name": "stdout",
          "output_type": "stream",
          "text": [
            "NLTK Downloader\n",
            "---------------------------------------------------------------------------\n",
            "    d) Download   l) List    u) Update   c) Config   h) Help   q) Quit\n",
            "---------------------------------------------------------------------------\n",
            "Downloader> d\n",
            "\n",
            "Download which package (l=list; x=cancel)?\n",
            "  Identifier> brown\n",
            "    Downloading package brown to /root/nltk_data...\n",
            "      Unzipping corpora/brown.zip.\n",
            "\n",
            "---------------------------------------------------------------------------\n",
            "    d) Download   l) List    u) Update   c) Config   h) Help   q) Quit\n",
            "---------------------------------------------------------------------------\n",
            "Downloader> q\n"
          ]
        },
        {
          "output_type": "execute_result",
          "data": {
            "text/plain": [
              "True"
            ]
          },
          "metadata": {},
          "execution_count": 6
        }
      ]
    },
    {
      "cell_type": "code",
      "source": [
        "from nltk.corpus import brown"
      ],
      "metadata": {
        "id": "TTLCKIC9Aq98"
      },
      "execution_count": 7,
      "outputs": []
    },
    {
      "cell_type": "code",
      "source": [
        "brown?"
      ],
      "metadata": {
        "id": "6OGCTG5AIGqq"
      },
      "execution_count": 8,
      "outputs": []
    },
    {
      "cell_type": "code",
      "source": [
        "print(brown.categories())"
      ],
      "metadata": {
        "colab": {
          "base_uri": "https://localhost:8080/"
        },
        "id": "CX0sGM-1GyHd",
        "outputId": "37d93447-3132-40a7-8176-d162e7c1f61e"
      },
      "execution_count": 9,
      "outputs": [
        {
          "output_type": "stream",
          "name": "stdout",
          "text": [
            "['adventure', 'belles_lettres', 'editorial', 'fiction', 'government', 'hobbies', 'humor', 'learned', 'lore', 'mystery', 'news', 'religion', 'reviews', 'romance', 'science_fiction']\n"
          ]
        }
      ]
    },
    {
      "cell_type": "code",
      "source": [
        "data = brown.sents(categories = 'science_fiction')"
      ],
      "metadata": {
        "id": "YIbxOa6OJAj9"
      },
      "execution_count": 15,
      "outputs": []
    },
    {
      "cell_type": "code",
      "source": [
        "data[6]"
      ],
      "metadata": {
        "colab": {
          "base_uri": "https://localhost:8080/"
        },
        "id": "aZAq4SNCJWmR",
        "outputId": "e583fd13-3e61-4bc8-9983-dcd230822fb2"
      },
      "execution_count": 18,
      "outputs": [
        {
          "output_type": "execute_result",
          "data": {
            "text/plain": [
              "['he',\n",
              " 'studied',\n",
              " 'them',\n",
              " ',',\n",
              " 'compared',\n",
              " 'them',\n",
              " 'with',\n",
              " 'what',\n",
              " 'he',\n",
              " 'had',\n",
              " 'been',\n",
              " 'taught',\n",
              " 'as',\n",
              " 'a',\n",
              " 'nestling',\n",
              " ',',\n",
              " 'struggling',\n",
              " 'to',\n",
              " 'bridge',\n",
              " 'between',\n",
              " 'languages',\n",
              " ',',\n",
              " 'the',\n",
              " 'one',\n",
              " 'he',\n",
              " 'thought',\n",
              " 'with',\n",
              " 'and',\n",
              " 'the',\n",
              " 'one',\n",
              " 'he',\n",
              " 'was',\n",
              " 'learning',\n",
              " 'to',\n",
              " 'think',\n",
              " 'in',\n",
              " '.']"
            ]
          },
          "metadata": {},
          "execution_count": 18
        }
      ]
    },
    {
      "cell_type": "code",
      "source": [
        "' '.join(data[6])"
      ],
      "metadata": {
        "colab": {
          "base_uri": "https://localhost:8080/",
          "height": 54
        },
        "id": "R2QWYF6gJbRR",
        "outputId": "a99fd458-7cea-4f2d-9a0e-ad3a0817cf16"
      },
      "execution_count": 21,
      "outputs": [
        {
          "output_type": "execute_result",
          "data": {
            "application/vnd.google.colaboratory.intrinsic+json": {
              "type": "string"
            },
            "text/plain": [
              "'he studied them , compared them with what he had been taught as a nestling , struggling to bridge between languages , the one he thought with and the one he was learning to think in .'"
            ]
          },
          "metadata": {},
          "execution_count": 21
        }
      ]
    },
    {
      "cell_type": "markdown",
      "source": [
        "Bag of Words Pipeline"
      ],
      "metadata": {
        "id": "V3ffRVIOKL59"
      }
    },
    {
      "cell_type": "code",
      "source": [
        ""
      ],
      "metadata": {
        "id": "yK4xt8-NKOAM"
      },
      "execution_count": null,
      "outputs": []
    }
  ]
}